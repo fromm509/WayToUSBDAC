{
 "cells": [
  {
   "cell_type": "code",
   "execution_count": null,
   "id": "c93508fa-5b4c-4b6b-87c9-462542db02d5",
   "metadata": {},
   "outputs": [],
   "source": [
    "import pyaudio\n",
    "import numpy as np\n",
    "\n",
    "# Определение параметров аудио\n",
    "sample_rate = 44100  # Частота дискретизации\n",
    "duration = 1.0  # Продолжительность пустого звукового сигнала (в секундах)\n",
    "\n",
    "# Создание пустого звукового сигнала\n",
    "samples = np.zeros(int(sample_rate * duration), dtype=np.float32)\n",
    "\n",
    "# Инициализация PyAudio\n",
    "p = pyaudio.PyAudio()\n",
    "\n",
    "# Получение ID устройства вывода (USB DAC)\n",
    "device_index = None\n",
    "for i in range(p.get_device_count()):\n",
    "    #print(i, p.get_device_info_by_index(i)['name'])\n",
    "    device_info = p.get_device_info_by_index(i)\n",
    "    if 'Elac DCB41' in device_info['name']:  # Замените 'USB DAC' на имя вашего устройства\n",
    "        device_index = device_info['index']\n",
    "        break\n",
    "\n",
    "if device_index is None:\n",
    "    print(\"Устройство вывода USB DAC не найдено.\")\n",
    "    exit()"
   ]
  },
  {
   "cell_type": "code",
   "execution_count": null,
   "id": "ef2b8d19-3aad-4fa9-9596-59117b60abcd",
   "metadata": {},
   "outputs": [],
   "source": [
    "# Открытие аудиоустройства для вывода\n",
    "stream = p.open(format=pyaudio.paFloat32,\n",
    "                channels=1,\n",
    "                rate=sample_rate,\n",
    "                output=True,\n",
    "                output_device_index=device_index)\n",
    "\n",
    "# Воспроизведение пустого звукового сигнала в бесконечном цикле\n",
    "while True:\n",
    "    stream.write(samples)"
   ]
  },
  {
   "cell_type": "code",
   "execution_count": null,
   "id": "07842218-64ad-4f34-9211-b8741fb9b1e1",
   "metadata": {},
   "outputs": [],
   "source": [
    "# Остановка воспроизведения и закрытие аудиоустройства\n",
    "stream.stop_stream()\n",
    "stream.close()\n",
    "\n",
    "# Завершение работы PyAudio\n",
    "p.terminate()"
   ]
  }
 ],
 "metadata": {
  "kernelspec": {
   "display_name": "Python 3",
   "language": "python",
   "name": "python3"
  },
  "language_info": {
   "codemirror_mode": {
    "name": "ipython",
    "version": 3
   },
   "file_extension": ".py",
   "mimetype": "text/x-python",
   "name": "python",
   "nbconvert_exporter": "python",
   "pygments_lexer": "ipython3",
   "version": "3.9.0"
  }
 },
 "nbformat": 4,
 "nbformat_minor": 5
}
